{
 "cells": [
  {
   "cell_type": "markdown",
   "metadata": {},
   "source": [
    "问题4"
   ]
  },
  {
   "cell_type": "markdown",
   "metadata": {},
   "source": [
    "1. 这样的程序有什么优点？有什么缺点？你有什么可以改进的方法吗？ \n",
    "2. 什么是数据驱动？数据驱动在这个程序里如何体现？\n",
    "3. 数据驱动与 AI 的关系是什么？ \n"
   ]
  },
  {
   "cell_type": "markdown",
   "metadata": {},
   "source": [
    "1、\n",
    "优点：简单高效，目标明确，对于明确的问题可以给出明确的答案。\n",
    "缺点：泛化能力不够，不能回答范围外的问题。感觉并没有理解语言的内核。也不能基于上下文理解语义。\n",
    "这种方法挺经典的，对于这种经典模型的本身并没有什么改进的想法。稍稍改进了话，加入有问题库和答案库，可以训练一个模型，先对输入的句子分词，抽取特征，然后训练模型，可以用朴素贝叶斯，然后选择概率最高的答案。或者用KNN模型，抽取特征后，选择最相似的问题的答案来回答。"
   ]
  },
  {
   "cell_type": "markdown",
   "metadata": {},
   "source": [
    "2、感觉就是分析数据，根据数据本身来定义问题和方案。这个对话机器人，就是根据对话的规则，匹配输入，得到输出。"
   ]
  },
  {
   "cell_type": "markdown",
   "metadata": {},
   "source": [
    "3、AI模型现在大部分都是专注于某一个具体领域具体任务，其实也就是数据驱动的，充分理解数据，才能设计出好的模型。\n",
    "但我觉得AI的未来不是这样的，AI的未来应该是泛智能的，具有通用的处理能力。"
   ]
  }
 ],
 "metadata": {
  "kernelspec": {
   "display_name": "Python 3",
   "language": "python",
   "name": "python3"
  },
  "language_info": {
   "codemirror_mode": {
    "name": "ipython",
    "version": 3
   },
   "file_extension": ".py",
   "mimetype": "text/x-python",
   "name": "python",
   "nbconvert_exporter": "python",
   "pygments_lexer": "ipython3",
   "version": "3.6.5"
  }
 },
 "nbformat": 4,
 "nbformat_minor": 2
}
