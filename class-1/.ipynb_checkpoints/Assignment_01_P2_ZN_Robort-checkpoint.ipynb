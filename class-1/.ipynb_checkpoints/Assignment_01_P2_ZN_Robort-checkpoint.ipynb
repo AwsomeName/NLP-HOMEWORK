{
 "cells": [
  {
   "cell_type": "code",
   "execution_count": 518,
   "metadata": {},
   "outputs": [],
   "source": [
    "rule_responses = {\n",
    "    '?*x hello ?*y': ['How do you do', 'Please state your problem'],\n",
    "    '?*x I want ?*y': ['what would it mean if you got ?y', 'Why do you want ?y', 'Suppose you got ?y soon'],\n",
    "    '?*x if ?*y': ['Do you really think its likely that ?y', 'Do you wish that ?y', 'What do you think about ?y', 'Really-- if ?y'],\n",
    "    '?*x no ?*y': ['why not?', 'You are being a negative', 'Are you saying \\'No\\' just to be negative?'],\n",
    "    '?*x I was ?*y': ['Were you really', 'Perhaps I already knew you were ?y', 'Why do you tell me you were ?y now?'],\n",
    "    '?*x I feel ?*y': ['Do you often feel ?y ?', 'What other feelings do you have?'],\n",
    "    '?*x 你好 ?*y': ['你好呀', '请告诉我你的问题'],\n",
    "    '?*x 我想 ?*y': ['你觉得 ?y 有什么意义呢？', '为什么你想 ?y', '你可以想想你很快就可以 ?y 了'],\n",
    "    '?*x 我想要 ?*y': ['?x 想问你，你觉得 ?y 有什么意义呢?', '为什么你想 ?y', '?x 觉得... 你可以想想你很快就可以有 ?y 了', '你看 ?x 像 ?y 不', '我看你就像 ?y'],\n",
    "    '?*x 喜欢 ?*y': ['喜欢 ?y 的哪里？', '?y 有什么好的呢？', '你想要 ?y 吗？'],\n",
    "    '?*x 讨厌 ?*y': ['?y 怎么会那么讨厌呢?', '讨厌 ?y 的哪里？', '?y 有什么不好呢？', '你不想要 ?y 吗？'],\n",
    "    '?*x AI ?*y': ['你为什么要提AI的事情？', '你为什么觉得AI要解决你的问题？'],\n",
    "    '?*x 机器人 ?*y': ['你为什么要提机器人的事情？', '你为什么觉得机器人要解决你的问题？'],\n",
    "    '?*x 对不起 ?*y': ['不用道歉', '你为什么觉得你需要道歉呢?'],\n",
    "    '?*x 我记得 ?*y': ['你经常会想起这个吗？', '除了 ?y 你还会想起什么吗？', '你为什么和我提起 ?y'],\n",
    "    '?*x 如果 ?*y': ['你真的觉得 ?y 会发生吗？', '你希望 ?y 吗?', '真的吗？如果 ?y 的话', '关于 ?y 你怎么想？'],\n",
    "    '?*x 我 ?*z 梦见 ?*y':['真的吗? --- ?y', '你在醒着的时候，以前想象过 ?y 吗？', '你以前梦见过 ?y 吗'],\n",
    "    '?*x 妈妈 ?*y': ['你家里除了 ?y 还有谁?', '嗯嗯，多说一点和你家里有关系的', '她对你影响很大吗？'],\n",
    "    '?*x 爸爸 ?*y': ['你家里除了 ?y 还有谁?', '嗯嗯，多说一点和你家里有关系的', '他对你影响很大吗？', '每当你想起你爸爸的时候， 你还会想起其他的吗?'],\n",
    "    '?*x 我愿意 ?*y': ['我可以帮你 ?y 吗？', '你可以解释一下，为什么想 ?y'],\n",
    "    '?*x 我很难过，因为 ?*y': ['我听到你这么说， 也很难过', '?y 不应该让你这么难过的'],\n",
    "    '?*x 难过 ?*y': ['我听到你这么说， 也很难过',\n",
    "                 '不应该让你这么难过的，你觉得你拥有什么，就会不难过?',\n",
    "                 '你觉得事情变成什么样，你就不难过了?'],\n",
    "    '?*x 就像 ?*y': ['你觉得 ?x 和 ?y 有什么相似性？', '?x 和 ?y 真的有关系吗？', '怎么说？'],\n",
    "    '?*x 和 ?*y 都 ?*z': ['你觉得 ?z 有什么问题吗?', '?z 会对你有什么影响呢?'],\n",
    "    '?*x 和 ?*y 一样 ?*z': ['你觉得 ?z 有什么问题吗?', '?z 会对你有什么影响呢?'],\n",
    "    '?*x 我是 ?*y': ['真的吗？', '?x 想告诉你，或许我早就知道你是 ?y', '你为什么现在才告诉我你是 ?y'],\n",
    "    '?*x 我是 ?*y 吗': ['如果你是 ?y 会怎么样呢？', '你觉得你是 ?y 吗', '如果你是 ?y ，那一位着什么?'],\n",
    "    '?*x 你是 ?*y 吗':  ['你为什么会对我是不是 ?y 感兴趣?', '那你希望我是 ?y 吗', '你要是喜欢， 我就会是 ?y'],\n",
    "    '?*x 你是 ?*y' : ['为什么你觉得我是 ?y'],\n",
    "    '?*x 因为 ?*y' : ['?y 是真正的原因吗？', '你觉得会有其他原因吗?'],\n",
    "    '?*x 我不能 ?*y': ['你或许现在就能 ?*y', '如果你能 ?*y,会怎样呢？'],\n",
    "    '?*x 我觉得 ?*y': ['你经常这样感觉吗？', '除了到这个，你还有什么其他的感觉吗？'],\n",
    "    '?*x 我 ?*y 你 ?*z': ['其实很有可能我们互相 ?y'],\n",
    "    '?*x 你为什么不 ?*y': ['你自己为什么不 ?y', '你觉得我不会 ?y', '等我心情好了，我就 ?y'],\n",
    "    '?*x 好的 ?*y': ['好的', '你是一个很正能量的人'],\n",
    "    '?*x 嗯嗯 ?*y': ['好的', '你是一个很正能量的人'],\n",
    "    '?*x 不嘛 ?*y': ['为什么不？', '你有一点负能量', '你说 不，是想表达不想的意思吗？'],\n",
    "    '?*x 不要 ?*y': ['为什么不？', '你有一点负能量', '你说 不，是想表达不想的意思吗？'],\n",
    "    '?*x 有些人 ?*y': ['具体是哪些人呢?'],\n",
    "    '?*x 有的人 ?*y': ['具体是哪些人呢?'],\n",
    "    '?*x 某些人 ?*y': ['具体是哪些人呢?'],\n",
    "    '?*x 每个人 ?*y': ['我确定不是人人都是', '你能想到一点特殊情况吗？', '例如谁？', '你看到的其实只是一小部分人'],\n",
    "    '?*x 所有人 ?*y': ['我确定不是人人都是', '你能想到一点特殊情况吗？', '例如谁？', '你看到的其实只是一小部分人'],\n",
    "    '?*x 总是 ?*y': ['你能想到一些其他情况吗?', '例如什么时候?', '你具体是说哪一次？', '真的---总是吗？'],\n",
    "    '?*x 一直 ?*y': ['你能想到一些其他情况吗?', '例如什么时候?', '你具体是说哪一次？', '真的---总是吗？'],\n",
    "    '?*x 或许 ?*y': ['你看起来不太确定'],\n",
    "    '?*x 可能 ?*y': ['你看起来不太确定'],\n",
    "    '?*x 他们是 ?*y吗？': ['你觉得他们可能不是 ?y？'],\n",
    "    '?*x': ['很有趣', '请继续', '我不太确定我很理解你说的, 能稍微详细解释一下吗?']\n",
    "}\n"
   ]
  },
  {
   "cell_type": "code",
   "execution_count": 519,
   "metadata": {},
   "outputs": [],
   "source": [
    "from collections import defaultdict"
   ]
  },
  {
   "cell_type": "code",
   "execution_count": 520,
   "metadata": {},
   "outputs": [],
   "source": [
    "def is_variable(pat):\n",
    "    return pat.startswith('?') and all(s.isalpha() for s in pat[1:])"
   ]
  },
  {
   "cell_type": "code",
   "execution_count": 521,
   "metadata": {},
   "outputs": [],
   "source": [
    "def pat_match(pattern, saying):\n",
    "    if not pattern or not saying: return []\n",
    "    \n",
    "    if is_variable(pattern[0]):\n",
    "        return [(pattern[0], saying[0])] + pat_match(pattern[1:], saying[1:])\n",
    "    else:\n",
    "        if pattern[0] != saying[0]: return []\n",
    "        else:\n",
    "            return pat_match(pattern[1:], saying[1:])"
   ]
  },
  {
   "cell_type": "code",
   "execution_count": 522,
   "metadata": {},
   "outputs": [],
   "source": [
    "# def pat_to_dict(patterns):\n",
    "#     return {k: v for k, v in patterns}\n",
    "def pat_to_dict(patterns):\n",
    "    return {k: ' '.join(v) if isinstance(v, list) else v for k, v in patterns}"
   ]
  },
  {
   "cell_type": "code",
   "execution_count": 523,
   "metadata": {},
   "outputs": [],
   "source": [
    "def subsitite(rule, parsed_rules):\n",
    "    if not rule: return []\n",
    "    \n",
    "    return [parsed_rules.get(rule[0], rule[0])] + subsitite(rule[1:], parsed_rules)"
   ]
  },
  {
   "cell_type": "code",
   "execution_count": 524,
   "metadata": {},
   "outputs": [],
   "source": [
    "def is_pattern_segment(pattern):\n",
    "    return pattern.startswith('?*') and all(a.isalpha() for a in pattern[2:])"
   ]
  },
  {
   "cell_type": "code",
   "execution_count": 525,
   "metadata": {},
   "outputs": [],
   "source": [
    "def segment_match(pattern, saying):\n",
    "    seg_pat, rest = pattern[0], pattern[1:]\n",
    "    seg_pat = seg_pat.replace('?*', '?')\n",
    "\n",
    "    if not rest: return (seg_pat, saying), len(saying)    \n",
    "    \n",
    "    for i, token in enumerate(saying):\n",
    "        if rest[0] == token and is_match(rest[1:], saying[(i + 1):]):\n",
    "            return (seg_pat, saying[:i]), i\n",
    "    \n",
    "    return (seg_pat, saying), len(saying)\n",
    "\n",
    "def is_match(rest, saying):\n",
    "    if not rest and not saying:\n",
    "        return True\n",
    "    if not all(a.isalpha() for a in rest[0]):\n",
    "        return True\n",
    "    if rest and not saying:\n",
    "        return False\n",
    "    if rest[0] != saying[0]:\n",
    "        return False\n",
    "    return is_match(rest[1:], saying[1:])"
   ]
  },
  {
   "cell_type": "code",
   "execution_count": 526,
   "metadata": {},
   "outputs": [
    {
     "name": "stdout",
     "output_type": "stream",
     "text": [
      "Model loaded succeed\n"
     ]
    }
   ],
   "source": [
    "import thulac\n",
    "# /thu2 = thulac.thulac(seg_only=True, user_dict=user_dict)\n",
    "thu2 = thulac.thulac(seg_only=True)"
   ]
  },
  {
   "cell_type": "markdown",
   "metadata": {},
   "source": [
    "text = thu2.cut(\"?*x讨厌?*y\", text=True)\n",
    "print(text)\n",
    "\n",
    "text = thu2.cut(\"?*xAI?*y\", text=True)\n",
    "print(text)"
   ]
  },
  {
   "cell_type": "code",
   "execution_count": 527,
   "metadata": {},
   "outputs": [],
   "source": [
    "fail = [True, None]\n",
    "\n",
    "def pat_match_with_seg(pattern, saying):\n",
    "    if not pattern or not saying: return []\n",
    "    \n",
    "    pat = pattern[0]\n",
    "#     print('pat:',pat)\n",
    "    \n",
    "    if is_variable(pat):\n",
    "        return [(pat, saying[0])] + pat_match_with_seg(pattern[1:], saying[1:])\n",
    "    elif is_pattern_segment(pat):\n",
    "        match, index = segment_match(pattern, saying)\n",
    "        if len(pattern)-1 > 0 and len(saying)-index == 0 : \n",
    "#             print('no more match')\n",
    "            return fail\n",
    "        return [match] + pat_match_with_seg(pattern[1:], saying[index:]) \n",
    "#         print(len(pattern), len(saying), index)\n",
    "#         print(pattern, saying)\n",
    "    elif pat == saying[0]:\n",
    "        return pat_match_with_seg(pattern[1:], saying[1:])\n",
    "    else:\n",
    "        return fail\n"
   ]
  },
  {
   "cell_type": "markdown",
   "metadata": {},
   "source": [
    "pattern1='?x 讨厌 ?y'.split()\n",
    "pat = pattern1[0]\n",
    "print('pat:',pat)\n",
    "print(is_variable(pat))\n",
    "\n",
    "pattern1='?*x 讨厌 ?y*'.split()\n",
    "pat = pattern1[0]\n",
    "print('pat:',pat)\n",
    "print(is_pattern_segment(pat))\n",
    "\n",
    "pattern1='?*x AI ?y*'.split()\n",
    "pat = pattern1[0]\n",
    "print('pat:',pat)\n",
    "print(is_pattern_segment(pat))"
   ]
  },
  {
   "cell_type": "markdown",
   "metadata": {},
   "source": [
    "pat_match_with_seg('?*x hello ?*y'.split(), \"do I want Iphone\".split())"
   ]
  },
  {
   "cell_type": "markdown",
   "metadata": {},
   "source": [
    "pat_match_with_seg('?*x 为什 么 不 ?*y'.split(), \"你 为什 么 不 爱 他\".split())"
   ]
  },
  {
   "cell_type": "markdown",
   "metadata": {},
   "source": [
    "pat_match_with_seg('?*x I want ?*y'.split(), \"do I want Iphone\".split())"
   ]
  },
  {
   "cell_type": "markdown",
   "metadata": {},
   "source": [
    "pat_match_with_seg('?*x I want ?*y'.split(), \"I want Iphone\".split())"
   ]
  },
  {
   "cell_type": "markdown",
   "metadata": {},
   "source": [
    "pat_match_with_seg('?*x 讨厌 ?*y'.split(), \"我 讨厌 你\".split())"
   ]
  },
  {
   "cell_type": "code",
   "execution_count": 528,
   "metadata": {},
   "outputs": [],
   "source": [
    "rule_responses_test = {\n",
    "    '?*x hello ?*y': ['How do you do', 'Please state your problem'],\n",
    "#     '?*x I want ?*y': ['what would it mean if you got ?y', 'Why do you want ?y', 'Suppose you got ?y soon'],\n",
    "    '?*x 讨厌 ?*y': ['?y 怎么会那么讨厌呢?', '讨厌 ?y 的哪里？', '?y 有什么不好呢？', '你不想要 ?y 吗？'],\n",
    "#     '?*x AI ?*y': ['你为什么要提AI的事情？', '你为什么觉得AI要解决你的问题？'],\n",
    "}"
   ]
  },
  {
   "cell_type": "code",
   "execution_count": 529,
   "metadata": {},
   "outputs": [],
   "source": [
    "def isZN(a):\n",
    "#     print('isZN',a)\n",
    "    if a == '*' or a == '?' or (a >= 'a' and a <= 'z') or (a >='A' and a <= 'Z'):\n",
    "#         print(False)\n",
    "        return False\n",
    "#     print(True)\n",
    "    return True"
   ]
  },
  {
   "cell_type": "code",
   "execution_count": 536,
   "metadata": {},
   "outputs": [],
   "source": [
    "import random\n",
    "def get_response(saying, rules=rule_responses):\n",
    "    text = thu2.cut(saying, text=True)\n",
    "#     print(text)\n",
    "    \n",
    "    for pat in rules:\n",
    "        patspl = pat.split()\n",
    "#         print(pat,':', patspl)\n",
    "        patspll = []\n",
    "        for x in patspl:\n",
    "            if all(isZN(a) for a in x):\n",
    "                for xx in thu2.cut(x, text=True).split():\n",
    "                    patspll.append(xx)\n",
    "            else:\n",
    "                patspll.append(x)\n",
    "#         print('patspll')\n",
    "#         print(patspll)\n",
    "                \n",
    "        \n",
    "        if pat_match_with_seg(patspll, text.split()) == fail:\n",
    "            pass\n",
    "        else:\n",
    "#             print('match:')\n",
    "#             print(pat)\n",
    "            got_patterns = pat_match_with_seg(patspll, text.split())\n",
    "#             print(got_patterns)\n",
    "            pat_dict = pat_to_dict(got_patterns)\n",
    "#             print(pat_dict)\n",
    "            #ans = defined_patterns[pat][]\n",
    "            ans = random.choice(rules[pat])\n",
    "#             ans = thu2.cut(ans, text=True)\n",
    "            if all(a.isalpha() for a in saying) :\n",
    "#                 print('all a is alpha in ', saying)\n",
    "                s = ''.join(subsitite(ans.split(), pat_dict))\n",
    "                return s.replace(' ','')\n",
    "#                 return ''.join(subsitite(ans.split(), pat_dict))\n",
    "            return ' '.join(subsitite(ans.split(), pat_dict)) \n",
    " \n",
    "#     print(\"啥?\")\n",
    "    \"\"\"\" \n",
    "    >>> get_response(\"My mother told me something\")\n",
    "    >>> Talk about more about your monther.\n",
    "    \"\"\"\n",
    "    pass"
   ]
  },
  {
   "cell_type": "code",
   "execution_count": 537,
   "metadata": {},
   "outputs": [
    {
     "data": {
      "text/plain": [
       "'讨厌你的哪里？'"
      ]
     },
     "execution_count": 537,
     "metadata": {},
     "output_type": "execute_result"
    }
   ],
   "source": [
    "get_response('我讨厌你')"
   ]
  },
  {
   "cell_type": "code",
   "execution_count": 538,
   "metadata": {},
   "outputs": [
    {
     "data": {
      "text/plain": [
       "'Why do you want Iphone'"
      ]
     },
     "execution_count": 538,
     "metadata": {},
     "output_type": "execute_result"
    }
   ],
   "source": [
    "get_response('do I want Iphone')"
   ]
  },
  {
   "cell_type": "code",
   "execution_count": 539,
   "metadata": {},
   "outputs": [
    {
     "data": {
      "text/plain": [
       "'等我心情好了，我就爱他'"
      ]
     },
     "execution_count": 539,
     "metadata": {},
     "output_type": "execute_result"
    }
   ],
   "source": [
    "get_response('你为什么不爱他')"
   ]
  },
  {
   "cell_type": "code",
   "execution_count": 540,
   "metadata": {},
   "outputs": [
    {
     "data": {
      "text/plain": [
       "'你能想到一些其他情况吗?'"
      ]
     },
     "execution_count": 540,
     "metadata": {},
     "output_type": "execute_result"
    }
   ],
   "source": [
    "get_response('你一直爱他')"
   ]
  },
  {
   "cell_type": "code",
   "execution_count": 541,
   "metadata": {},
   "outputs": [
    {
     "data": {
      "text/plain": [
       "'你觉得要飞机有什么意义呢？'"
      ]
     },
     "execution_count": 541,
     "metadata": {},
     "output_type": "execute_result"
    }
   ],
   "source": [
    "get_response('我想要飞机')"
   ]
  },
  {
   "cell_type": "code",
   "execution_count": null,
   "metadata": {},
   "outputs": [],
   "source": []
  },
  {
   "cell_type": "code",
   "execution_count": null,
   "metadata": {},
   "outputs": [],
   "source": []
  }
 ],
 "metadata": {
  "kernelspec": {
   "display_name": "Python 3",
   "language": "python",
   "name": "python3"
  },
  "language_info": {
   "codemirror_mode": {
    "name": "ipython",
    "version": 3
   },
   "file_extension": ".py",
   "mimetype": "text/x-python",
   "name": "python",
   "nbconvert_exporter": "python",
   "pygments_lexer": "ipython3",
   "version": "3.6.5"
  }
 },
 "nbformat": 4,
 "nbformat_minor": 2
}
