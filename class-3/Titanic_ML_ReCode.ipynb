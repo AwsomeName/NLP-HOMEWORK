{
 "cells": [
  {
   "cell_type": "markdown",
   "metadata": {},
   "source": [
    "# 0. Load && Test DATA"
   ]
  },
  {
   "cell_type": "code",
   "execution_count": 179,
   "metadata": {},
   "outputs": [],
   "source": [
    "import pandas as pd\n",
    "import random\n",
    "import numpy as np\n",
    "import matplotlib.pyplot as plt"
   ]
  },
  {
   "cell_type": "code",
   "execution_count": 3,
   "metadata": {},
   "outputs": [],
   "source": [
    "%matplotlib inline"
   ]
  },
  {
   "cell_type": "code",
   "execution_count": 4,
   "metadata": {},
   "outputs": [],
   "source": [
    "content = pd.read_csv('train.csv')"
   ]
  },
  {
   "cell_type": "code",
   "execution_count": 5,
   "metadata": {},
   "outputs": [],
   "source": [
    "content = content.dropna()"
   ]
  },
  {
   "cell_type": "code",
   "execution_count": 6,
   "metadata": {},
   "outputs": [],
   "source": [
    "age_with_fares = content[\n",
    "    (content['Age'] > 22 ) & (content['Fare']<400) & (content['Fare']>130)\n",
    "]"
   ]
  },
  {
   "cell_type": "code",
   "execution_count": 23,
   "metadata": {},
   "outputs": [],
   "source": [
    "sub_fare = age_with_fares['Fare']\n",
    "sub_age = age_with_fares['Age']"
   ]
  },
  {
   "cell_type": "code",
   "execution_count": 24,
   "metadata": {},
   "outputs": [
    {
     "data": {
      "text/plain": [
       "<matplotlib.collections.PathCollection at 0x7f48b0b959e8>"
      ]
     },
     "execution_count": 24,
     "metadata": {},
     "output_type": "execute_result"
    },
    {
     "data": {
      "image/png": "[encoded data removed]",
      "text/plain": [
       "<Figure size 432x288 with 1 Axes>"
      ]
     },
     "metadata": {},
     "output_type": "display_data"
    }
   ],
   "source": [
    "plt.scatter(sub_age, sub_fare)"
   ]
  },
  {
   "cell_type": "code",
   "execution_count": 25,
   "metadata": {},
   "outputs": [],
   "source": [
    "plt.show()"
   ]
  },
  {
   "cell_type": "code",
   "execution_count": 26,
   "metadata": {},
   "outputs": [],
   "source": [
    "# def func(ages, k, b) :return [k * age + b for age in ages]\n",
    "def func(ages, k, b) :return k * ages + b "
   ]
  },
  {
   "cell_type": "code",
   "execution_count": 41,
   "metadata": {},
   "outputs": [],
   "source": [
    "def loss(ys, yhats):\n",
    "    \"\"\"\n",
    "    :param y : the real fares\n",
    "    :param yhat: the estimated fares\n",
    "    :return : how good is the estimate fares\n",
    "    \"\"\"\n",
    "    \n",
    "    return np.mean(np.abs(ys-yhats))\n",
    "#     return [np.mean(np.abs(y-yhat)) for y in ys for yhat in yhats]"
   ]
  },
  {
   "cell_type": "code",
   "execution_count": 30,
   "metadata": {},
   "outputs": [],
   "source": [
    "k_hat = random.randint(-10,10)\n",
    "b_hat = random.randint(10, 10)"
   ]
  },
  {
   "cell_type": "code",
   "execution_count": 33,
   "metadata": {},
   "outputs": [
    {
     "name": "stdout",
     "output_type": "stream",
     "text": [
      "[256.1754315789474]\n"
     ]
    }
   ],
   "source": [
    "# while True:\n",
    "estimated_fares = func(sub_age, k_hat, b_hat)\n",
    "performance = loss(ys=sub_fare, yhats=estimated_fares)\n",
    "print(performance)"
   ]
  },
  {
   "cell_type": "code",
   "execution_count": 18,
   "metadata": {},
   "outputs": [
    {
     "data": {
      "text/plain": [
       "[<matplotlib.lines.Line2D at 0x7f48b4d84b70>]"
      ]
     },
     "execution_count": 18,
     "metadata": {},
     "output_type": "execute_result"
    },
    {
     "data": {
      "image/png": "[encoded data removed]",
      "text/plain": [
       "<Figure size 432x288 with 1 Axes>"
      ]
     },
     "metadata": {},
     "output_type": "display_data"
    }
   ],
   "source": [
    "plt.scatter(sub_age, sub_fare)\n",
    "plt.plot(sub_age, estimated_fares, c='r')"
   ]
  },
  {
   "cell_type": "code",
   "execution_count": null,
   "metadata": {},
   "outputs": [],
   "source": []
  },
  {
   "cell_type": "markdown",
   "metadata": {},
   "source": [
    "# 1.Random Optimization "
   ]
  },
  {
   "cell_type": "code",
   "execution_count": 32,
   "metadata": {},
   "outputs": [],
   "source": [
    "best_k, best_b = None, None"
   ]
  },
  {
   "cell_type": "code",
   "execution_count": 115,
   "metadata": {},
   "outputs": [],
   "source": [
    "min_error_rate = float('inf')"
   ]
  },
  {
   "cell_type": "code",
   "execution_count": 116,
   "metadata": {},
   "outputs": [],
   "source": [
    "epoch = 1000\n",
    "nlist = range(1, epoch)"
   ]
  },
  {
   "cell_type": "code",
   "execution_count": 117,
   "metadata": {},
   "outputs": [],
   "source": [
    "performances = []\n",
    "best_p =[min_error_rate]"
   ]
  },
  {
   "cell_type": "markdown",
   "metadata": {},
   "source": [
    "随机更新k和b，循环1000次"
   ]
  },
  {
   "cell_type": "code",
   "execution_count": 118,
   "metadata": {},
   "outputs": [],
   "source": [
    "while epoch > 0 :\n",
    "    k_hat = random.randint(-10,10)\n",
    "    b_hat = random.randint(-10, 10)\n",
    "    estimated_fares = func(sub_age, k_hat, b_hat)\n",
    "    performance = loss(ys=sub_fare, yhats=estimated_fares)\n",
    "    performances.append(performance)\n",
    "    if performance < min_error_rate :\n",
    "        min_error_rate = performance\n",
    "        best_p.append(min_error_rate)\n",
    "        best_k, best_b = k_hat, b_hat\n",
    "    epoch = epoch - 1"
   ]
  },
  {
   "cell_type": "code",
   "execution_count": 119,
   "metadata": {},
   "outputs": [
    {
     "data": {
      "text/plain": [
       "[371.4912210526315,\n",
       " 173.30044210526313,\n",
       " 453.701747368421,\n",
       " 61.84123157894739,\n",
       " 84.92017894736841,\n",
       " 82.65965263157895,\n",
       " 527.9122736842105,\n",
       " 82.92281052631579,\n",
       " 63.41623157894738,\n",
       " 83.44912631578947]"
      ]
     },
     "execution_count": 119,
     "metadata": {},
     "output_type": "execute_result"
    }
   ],
   "source": [
    "performances[:10]"
   ]
  },
  {
   "cell_type": "markdown",
   "metadata": {},
   "source": [
    "当前最好的结果："
   ]
  },
  {
   "cell_type": "code",
   "execution_count": 120,
   "metadata": {},
   "outputs": [
    {
     "data": {
      "text/plain": [
       "([inf,\n",
       "  371.4912210526315,\n",
       "  173.30044210526313,\n",
       "  61.84123157894739,\n",
       "  61.26228421052633,\n",
       "  61.20965263157896],\n",
       " 4,\n",
       " 10)"
      ]
     },
     "execution_count": 120,
     "metadata": {},
     "output_type": "execute_result"
    }
   ],
   "source": [
    "best_p, best_k, best_b"
   ]
  },
  {
   "cell_type": "markdown",
   "metadata": {},
   "source": [
    "这1000次每次的误差：可以看出波动很大，基本靠蒙"
   ]
  },
  {
   "cell_type": "code",
   "execution_count": 121,
   "metadata": {},
   "outputs": [
    {
     "data": {
      "text/plain": [
       "<matplotlib.collections.PathCollection at 0x7f48ac13ec88>"
      ]
     },
     "execution_count": 121,
     "metadata": {},
     "output_type": "execute_result"
    },
    {
     "data": {
      "image/png": "[encoded data removed]",
      "text/plain": [
       "<Figure size 432x288 with 1 Axes>"
      ]
     },
     "metadata": {},
     "output_type": "display_data"
    }
   ],
   "source": [
    "nlist = range(1, 1+len(performances))\n",
    "plt.scatter(nlist, performances)"
   ]
  },
  {
   "cell_type": "markdown",
   "metadata": {},
   "source": [
    "最好误差的变化："
   ]
  },
  {
   "cell_type": "code",
   "execution_count": 123,
   "metadata": {},
   "outputs": [
    {
     "data": {
      "text/plain": [
       "<matplotlib.collections.PathCollection at 0x7f48ac07da58>"
      ]
     },
     "execution_count": 123,
     "metadata": {},
     "output_type": "execute_result"
    },
    {
     "data": {
      "image/png": "[encoded data removed]",
      "text/plain": [
       "<Figure size 432x288 with 1 Axes>"
      ]
     },
     "metadata": {},
     "output_type": "display_data"
    }
   ],
   "source": [
    "nlist = range(1, 1+len(best_p))\n",
    "plt.scatter(nlist, best_p)"
   ]
  },
  {
   "cell_type": "markdown",
   "metadata": {},
   "source": [
    "查看和数据拟合的结果："
   ]
  },
  {
   "cell_type": "code",
   "execution_count": 126,
   "metadata": {},
   "outputs": [],
   "source": [
    "estimated_fares = func(sub_age, best_k, best_b)"
   ]
  },
  {
   "cell_type": "code",
   "execution_count": 127,
   "metadata": {},
   "outputs": [
    {
     "data": {
      "text/plain": [
       "[<matplotlib.lines.Line2D at 0x7f48abf92780>]"
      ]
     },
     "execution_count": 127,
     "metadata": {},
     "output_type": "execute_result"
    },
    {
     "data": {
      "image/png": "[encoded data removed]",
      "text/plain": [
       "<Figure size 432x288 with 1 Axes>"
      ]
     },
     "metadata": {},
     "output_type": "display_data"
    }
   ],
   "source": [
    "plt.scatter(sub_age, sub_fare)\n",
    "plt.plot(sub_age, estimated_fares, c='r')"
   ]
  },
  {
   "cell_type": "markdown",
   "metadata": {},
   "source": [
    "实数域测试："
   ]
  },
  {
   "cell_type": "code",
   "execution_count": 141,
   "metadata": {},
   "outputs": [],
   "source": [
    "epoch = 1000\n",
    "performances = []\n",
    "min_error_rate = float('inf')\n",
    "best_p =[min_error_rate]"
   ]
  },
  {
   "cell_type": "code",
   "execution_count": 142,
   "metadata": {},
   "outputs": [],
   "source": [
    "while epoch > 0 :\n",
    "    k_hat = random.random() * 20 - 10\n",
    "    b_hat = random.random() * 20 - 10\n",
    "    estimated_fares = func(sub_age, k_hat, b_hat)\n",
    "    performance = loss(ys=sub_fare, yhats=estimated_fares)\n",
    "    performances.append(performance)\n",
    "    if performance < min_error_rate :\n",
    "        min_error_rate = performance\n",
    "#         best_p.append(min_error_rate)\n",
    "        best_k, best_b = k_hat, b_hat\n",
    "    best_p.append(min_error_rate)\n",
    "    epoch = epoch - 1"
   ]
  },
  {
   "cell_type": "code",
   "execution_count": 143,
   "metadata": {},
   "outputs": [
    {
     "data": {
      "text/plain": [
       "<matplotlib.collections.PathCollection at 0x7f48abd35080>"
      ]
     },
     "execution_count": 143,
     "metadata": {},
     "output_type": "execute_result"
    },
    {
     "data": {
      "image/png": "[encoded data removed]",
      "text/plain": [
       "<Figure size 432x288 with 1 Axes>"
      ]
     },
     "metadata": {},
     "output_type": "display_data"
    }
   ],
   "source": [
    "nlist = range(1, 1+len(performances))\n",
    "plt.scatter(nlist, performances)"
   ]
  },
  {
   "cell_type": "code",
   "execution_count": 146,
   "metadata": {},
   "outputs": [],
   "source": [
    "# best_p, best_k, best_b"
   ]
  },
  {
   "cell_type": "code",
   "execution_count": 147,
   "metadata": {},
   "outputs": [
    {
     "data": {
      "text/plain": [
       "<matplotlib.collections.PathCollection at 0x7f48abc640f0>"
      ]
     },
     "execution_count": 147,
     "metadata": {},
     "output_type": "execute_result"
    },
    {
     "data": {
      "image/png": "[encoded data removed]",
      "text/plain": [
       "<Figure size 432x288 with 1 Axes>"
      ]
     },
     "metadata": {},
     "output_type": "display_data"
    }
   ],
   "source": [
    "nlist = range(1, 1+len(best_p))\n",
    "plt.scatter(nlist, best_p)"
   ]
  },
  {
   "cell_type": "code",
   "execution_count": 150,
   "metadata": {},
   "outputs": [
    {
     "data": {
      "text/plain": [
       "<matplotlib.collections.PathCollection at 0x7f48abb761d0>"
      ]
     },
     "execution_count": 150,
     "metadata": {},
     "output_type": "execute_result"
    },
    {
     "data": {
      "image/png": "[encoded data removed]",
      "text/plain": [
       "<Figure size 432x288 with 1 Axes>"
      ]
     },
     "metadata": {},
     "output_type": "display_data"
    }
   ],
   "source": [
    "nlist = range(1, 60)\n",
    "plt.scatter(nlist, best_p[:59])"
   ]
  },
  {
   "cell_type": "code",
   "execution_count": 151,
   "metadata": {},
   "outputs": [],
   "source": [
    "estimated_fares = func(sub_age, best_k, best_b)"
   ]
  },
  {
   "cell_type": "code",
   "execution_count": 152,
   "metadata": {},
   "outputs": [
    {
     "data": {
      "text/plain": [
       "[<matplotlib.lines.Line2D at 0x7f48abb76518>]"
      ]
     },
     "execution_count": 152,
     "metadata": {},
     "output_type": "execute_result"
    },
    {
     "data": {
      "image/png": "[encoded data removed]",
      "text/plain": [
       "<Figure size 432x288 with 1 Axes>"
      ]
     },
     "metadata": {},
     "output_type": "display_data"
    }
   ],
   "source": [
    "plt.scatter(sub_age, sub_fare)\n",
    "plt.plot(sub_age, estimated_fares, c='r')"
   ]
  },
  {
   "cell_type": "markdown",
   "metadata": {},
   "source": [
    "大约在42左右可以得到最优解，但是错误率本身从未收敛"
   ]
  },
  {
   "cell_type": "markdown",
   "metadata": {},
   "source": [
    "# 2.Supervised Direction Optimization "
   ]
  },
  {
   "cell_type": "code",
   "execution_count": 154,
   "metadata": {},
   "outputs": [],
   "source": [
    "epoch = 1000\n",
    "performances = []\n",
    "min_error_rate = float('inf')\n",
    "best_p =[min_error_rate]\n",
    "k_hat = random.random() * 20 - 10\n",
    "b_hat = random.random() * 20 - 10\n",
    "step = 0.5\n",
    "best_k, best_b = 0, 0\n",
    "k_direct, b_direct = 1, 1"
   ]
  },
  {
   "cell_type": "code",
   "execution_count": 156,
   "metadata": {},
   "outputs": [],
   "source": [
    "while epoch > 0 :\n",
    "    k_hat = best_k + k_direct * step\n",
    "    b_hat = best_b + b_direct * step\n",
    "    estimated_fares = func(sub_age, k_hat, b_hat)\n",
    "    performance = loss(ys=sub_fare, yhats=estimated_fares)\n",
    "    performances.append(performance)\n",
    "    if performance < min_error_rate :\n",
    "        min_error_rate = performance\n",
    "        best_k, best_b = k_hat, b_hat\n",
    "    else:\n",
    "        k_direct, b_direct = -k_direct, -b_direct\n",
    "    best_p.append(min_error_rate)\n",
    "    epoch = epoch - 1"
   ]
  },
  {
   "cell_type": "code",
   "execution_count": 157,
   "metadata": {},
   "outputs": [
    {
     "data": {
      "text/plain": [
       "<matplotlib.collections.PathCollection at 0x7f48abab72e8>"
      ]
     },
     "execution_count": 157,
     "metadata": {},
     "output_type": "execute_result"
    },
    {
     "data": {
      "image/png": "[encoded data removed]",
      "text/plain": [
       "<Figure size 432x288 with 1 Axes>"
      ]
     },
     "metadata": {},
     "output_type": "display_data"
    }
   ],
   "source": [
    "nlist = range(1, 1+len(performances))\n",
    "plt.scatter(nlist, performances)"
   ]
  },
  {
   "cell_type": "markdown",
   "metadata": {},
   "source": [
    "明显这里收敛了"
   ]
  },
  {
   "cell_type": "code",
   "execution_count": 160,
   "metadata": {},
   "outputs": [
    {
     "data": {
      "text/plain": [
       "([61.84123157894739,\n",
       "  61.84123157894739,\n",
       "  61.84123157894739,\n",
       "  61.84123157894739,\n",
       "  61.84123157894739,\n",
       "  61.84123157894739,\n",
       "  61.84123157894739,\n",
       "  61.84123157894739,\n",
       "  61.84123157894739,\n",
       "  61.84123157894739,\n",
       "  61.84123157894739],\n",
       " 4.0,\n",
       " 4.0)"
      ]
     },
     "execution_count": 160,
     "metadata": {},
     "output_type": "execute_result"
    }
   ],
   "source": [
    "best_p[990:], best_k, best_b"
   ]
  },
  {
   "cell_type": "code",
   "execution_count": 162,
   "metadata": {},
   "outputs": [
    {
     "data": {
      "text/plain": [
       "<matplotlib.collections.PathCollection at 0x7f48ab9e2d30>"
      ]
     },
     "execution_count": 162,
     "metadata": {},
     "output_type": "execute_result"
    },
    {
     "data": {
      "image/png": "[encoded data removed]",
      "text/plain": [
       "<Figure size 432x288 with 1 Axes>"
      ]
     },
     "metadata": {},
     "output_type": "display_data"
    }
   ],
   "source": [
    "nlist = range(1, 20)\n",
    "plt.scatter(nlist, best_p[:19])"
   ]
  },
  {
   "cell_type": "markdown",
   "metadata": {},
   "source": [
    "可以看出收敛更快，更平滑了，第9次就差不多了。下面调整步长试试"
   ]
  },
  {
   "cell_type": "code",
   "execution_count": 164,
   "metadata": {},
   "outputs": [],
   "source": [
    "epoch = 100\n",
    "performances = []\n",
    "min_error_rate = float('inf')\n",
    "best_p =[min_error_rate]\n",
    "k_hat = random.random() * 20 - 10\n",
    "b_hat = random.random() * 20 - 10\n",
    "step = 0.1 \n",
    "best_k, best_b = 0, 0\n",
    "k_direct, b_direct = 1, 1"
   ]
  },
  {
   "cell_type": "code",
   "execution_count": 165,
   "metadata": {},
   "outputs": [],
   "source": [
    "while epoch > 0 :\n",
    "    k_hat = best_k + k_direct * step\n",
    "    b_hat = best_b + b_direct * step\n",
    "    estimated_fares = func(sub_age, k_hat, b_hat)\n",
    "    performance = loss(ys=sub_fare, yhats=estimated_fares)\n",
    "    performances.append(performance)\n",
    "    if performance < min_error_rate :\n",
    "        min_error_rate = performance\n",
    "        best_k, best_b = k_hat, b_hat\n",
    "    else:\n",
    "        k_direct, b_direct = -k_direct, -b_direct\n",
    "    best_p.append(min_error_rate)\n",
    "    epoch = epoch - 1"
   ]
  },
  {
   "cell_type": "code",
   "execution_count": 167,
   "metadata": {},
   "outputs": [
    {
     "data": {
      "text/plain": [
       "<matplotlib.collections.PathCollection at 0x7f48ab91db00>"
      ]
     },
     "execution_count": 167,
     "metadata": {},
     "output_type": "execute_result"
    },
    {
     "data": {
      "image/png": "[encoded data removed]",
      "text/plain": [
       "<Figure size 432x288 with 1 Axes>"
      ]
     },
     "metadata": {},
     "output_type": "display_data"
    }
   ],
   "source": [
    "nlist = range(1, 50)\n",
    "plt.scatter(nlist, best_p[:49])"
   ]
  },
  {
   "cell_type": "markdown",
   "metadata": {},
   "source": [
    "步长调小后，收敛更加平滑，但是也变得缓慢了。"
   ]
  },
  {
   "cell_type": "markdown",
   "metadata": {},
   "source": [
    "# 3.Gradient Descent"
   ]
  },
  {
   "cell_type": "code",
   "execution_count": 198,
   "metadata": {},
   "outputs": [],
   "source": [
    "epoch = 1000\n",
    "performances = []\n",
    "min_error_rate = float('inf')\n",
    "best_p =[min_error_rate]\n",
    "k_hat = random.random() * 20 - 10\n",
    "b_hat = random.random() * 20 - 10\n",
    "step = 0.5\n",
    "learning_rate = 0.001\n",
    "best_k, best_b = 0, 0\n",
    "k_direct, b_direct = 1, 1"
   ]
  },
  {
   "cell_type": "code",
   "execution_count": 180,
   "metadata": {},
   "outputs": [],
   "source": [
    "def derivate_k(y, yhat, x):\n",
    "    abs_values = [1 if (y_i - yhat_i) > 0 else -1 for y_i, yhat_i in zip(y, yhat)]\n",
    "    \n",
    "    return np.mean([a * -x_i for a, x_i in zip(abs_values, x)])\n"
   ]
  },
  {
   "cell_type": "code",
   "execution_count": 182,
   "metadata": {},
   "outputs": [],
   "source": [
    "def derivate_b(y, yhat):\n",
    "    abs_values = [1 if (y_i - yhat_i) > 0 else -1 for y_i, yhat_i in zip(y, yhat)]\n",
    "    \n",
    "    return np.mean([a * -1 for a in abs_values])"
   ]
  },
  {
   "cell_type": "code",
   "execution_count": 199,
   "metadata": {},
   "outputs": [],
   "source": [
    "while epoch > 0 :\n",
    "#     k_delta = -1 * learning_rate * derivate_k(sub_fare, estimated_fares, sub_age)\n",
    "#     b_delta = -1 * learning_rate * derivate_b(sub_fare, estimated_fares)\n",
    "    \n",
    "#     k_hat += k_delta\n",
    "#     b_hat += b_dalta\n",
    "    \n",
    "#     k_hat = best_k + k_direct * step\n",
    "#     b_hat = best_b + b_direct * step\n",
    "    estimated_fares = func(sub_age, k_hat, b_hat)\n",
    "    performance = loss(ys=sub_fare, yhats=estimated_fares)\n",
    "    performances.append(performance)\n",
    "    if performance < min_error_rate :\n",
    "        min_error_rate = performance\n",
    "        best_k, best_b = k_hat, b_hat\n",
    "\n",
    "\n",
    "    best_p.append(min_error_rate)\n",
    "    \n",
    "    k_delta = -1 * learning_rate * derivate_k(sub_fare, estimated_fares, sub_age)\n",
    "    b_delta = -1 * learning_rate * derivate_b(sub_fare, estimated_fares)\n",
    "    k_hat += k_delta\n",
    "    b_hat += b_delta\n",
    "    \n",
    "    epoch = epoch - 1"
   ]
  },
  {
   "cell_type": "code",
   "execution_count": 200,
   "metadata": {},
   "outputs": [
    {
     "data": {
      "text/plain": [
       "<matplotlib.collections.PathCollection at 0x7f48ab524cc0>"
      ]
     },
     "execution_count": 200,
     "metadata": {},
     "output_type": "execute_result"
    },
    {
     "data": {
      "image/png": "[encoded data removed]",
      "text/plain": [
       "<Figure size 432x288 with 1 Axes>"
      ]
     },
     "metadata": {},
     "output_type": "display_data"
    }
   ],
   "source": [
    "nlist = range(1, 1000)\n",
    "plt.scatter(nlist, best_p[:999])"
   ]
  },
  {
   "cell_type": "markdown",
   "metadata": {},
   "source": [
    "可以看出收敛的曲线特别平滑。因为学习率取的比较低，所以收敛不是很快。"
   ]
  },
  {
   "cell_type": "code",
   "execution_count": 202,
   "metadata": {},
   "outputs": [],
   "source": [
    "epoch = 1000\n",
    "performances = []\n",
    "min_error_rate = float('inf')\n",
    "best_p =[min_error_rate]\n",
    "k_hat = random.random() * 20 - 10\n",
    "b_hat = random.random() * 20 - 10\n",
    "step = 0.5\n",
    "learning_rate = 0.01\n",
    "best_k, best_b = 0, 0\n",
    "k_direct, b_direct = 1, 1"
   ]
  },
  {
   "cell_type": "code",
   "execution_count": 203,
   "metadata": {},
   "outputs": [],
   "source": [
    "while epoch > 0 :\n",
    "#     k_delta = -1 * learning_rate * derivate_k(sub_fare, estimated_fares, sub_age)\n",
    "#     b_delta = -1 * learning_rate * derivate_b(sub_fare, estimated_fares)\n",
    "    \n",
    "#     k_hat += k_delta\n",
    "#     b_hat += b_dalta\n",
    "    \n",
    "#     k_hat = best_k + k_direct * step\n",
    "#     b_hat = best_b + b_direct * step\n",
    "    estimated_fares = func(sub_age, k_hat, b_hat)\n",
    "    performance = loss(ys=sub_fare, yhats=estimated_fares)\n",
    "    performances.append(performance)\n",
    "    if performance < min_error_rate :\n",
    "        min_error_rate = performance\n",
    "        best_k, best_b = k_hat, b_hat\n",
    "\n",
    "\n",
    "    best_p.append(min_error_rate)\n",
    "    \n",
    "    k_delta = -1 * learning_rate * derivate_k(sub_fare, estimated_fares, sub_age)\n",
    "    b_delta = -1 * learning_rate * derivate_b(sub_fare, estimated_fares)\n",
    "    k_hat += k_delta\n",
    "    b_hat += b_delta\n",
    "    \n",
    "    epoch = epoch - 1"
   ]
  },
  {
   "cell_type": "code",
   "execution_count": 204,
   "metadata": {},
   "outputs": [
    {
     "data": {
      "text/plain": [
       "<matplotlib.collections.PathCollection at 0x7f48ab4fc6d8>"
      ]
     },
     "execution_count": 204,
     "metadata": {},
     "output_type": "execute_result"
    },
    {
     "data": {
      "image/png": "[encoded data removed]",
      "text/plain": [
       "<Figure size 432x288 with 1 Axes>"
      ]
     },
     "metadata": {},
     "output_type": "display_data"
    }
   ],
   "source": [
    "nlist = range(1, 1000)\n",
    "plt.scatter(nlist, best_p[:999])"
   ]
  },
  {
   "cell_type": "code",
   "execution_count": 205,
   "metadata": {},
   "outputs": [
    {
     "data": {
      "text/plain": [
       "<matplotlib.collections.PathCollection at 0x7f48ab450e80>"
      ]
     },
     "execution_count": 205,
     "metadata": {},
     "output_type": "execute_result"
    },
    {
     "data": {
      "image/png": "[encoded data removed]",
      "text/plain": [
       "<Figure size 432x288 with 1 Axes>"
      ]
     },
     "metadata": {},
     "output_type": "display_data"
    }
   ],
   "source": [
    "nlist = range(1, 100)\n",
    "plt.scatter(nlist, best_p[:99])"
   ]
  },
  {
   "cell_type": "markdown",
   "metadata": {},
   "source": [
    "大一点的学习率，收敛更快了。可以看出梯度下降的优化效果非常稳定，平滑"
   ]
  },
  {
   "cell_type": "code",
   "execution_count": null,
   "metadata": {},
   "outputs": [],
   "source": []
  }
 ],
 "metadata": {
  "kernelspec": {
   "display_name": "Python 3",
   "language": "python",
   "name": "python3"
  },
  "language_info": {
   "codemirror_mode": {
    "name": "ipython",
    "version": 3
   },
   "file_extension": ".py",
   "mimetype": "text/x-python",
   "name": "python",
   "nbconvert_exporter": "python",
   "pygments_lexer": "ipython3",
   "version": "3.6.5"
  }
 },
 "nbformat": 4,
 "nbformat_minor": 2
}
